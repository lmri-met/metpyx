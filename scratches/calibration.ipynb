{
 "cells": [
  {
   "cell_type": "code",
   "execution_count": 1,
   "id": "9699251129a4aaa1",
   "metadata": {
    "ExecuteTime": {
     "end_time": "2024-04-08T09:41:05.215829Z",
     "start_time": "2024-04-08T09:41:02.806109Z"
    }
   },
   "outputs": [],
   "source": [
    "import json\n",
    "import numpy as np\n",
    "import pandas as pd\n",
    "from src.metpyx.definitions import REFERENCE_TEMPERATURE, REFERENCE_PRESSURE, celsius_to_kelvin, hour_to_second\n",
    "from src.metpyx.ionization_chamber import IonizationChamber, get_radiation_quality_series"
   ]
  },
  {
   "cell_type": "markdown",
   "id": "c54660ea138ed69",
   "metadata": {},
   "source": [
    "# IR-14D: Calibration of radiation measuring devices\n",
    "Calibration steps:\n",
    "1. Select and read initial information:\n",
    "- Select measurement magnitude\n",
    "- Select radiation quality\n",
    "- Read kerma-to-operational magnitude conversion coefficient (magnitude, quality).\n",
    "- Read unit of integral and rate measurement magnitude\n",
    "- Select reference chamber (initially there will only be one, the 557, but there may be two)\n",
    "- Select quality series\n",
    "- Read chamber calibration factor for quality series\n",
    "- Read correction factor of calibration factor for quality\n",
    "\n",
    "2. Simultaneous measurements of the reference chamber and the monitoring chamber\n",
    "\n",
    "2.1. Leakage current measurements (shutter closed):\n",
    "- Select irradiation time for leakage measurements\n",
    "- Measure the electrometer charge\n",
    "- Calculate leakage current\n",
    "\n",
    "2.2. Kerma measurement (shutter open):\n",
    "- Select irradiation time for leakage measurements\n",
    "- Measure the electrometer charge\n",
    "- Measure pressure (1 barometer)\n",
    "- Measure temperature (2 probes connected to the same thermometer)\n",
    "- Calculate current intensity (excluding leakages and corrected for reference pressure and temperature conditions)\n",
    "- Calculate kerma rate (includes distance factor)\n",
    "\n",
    "3. VCV of the operational magnitude rate\n",
    "- Kerma rate (calculated previously)\n",
    "- Kerma-to-measurement magnitude conversion factor (previously chosen)\n",
    "- Electrometer range correction factor (from the reference chamber calibration certificate, RANGE LOW HIGH table,\n",
    "  select range)\n",
    "- Air density correction factor (read from Hp tab, air attenuation table)\n",
    "\n",
    "4. Equipment measurements\n",
    "- Equipment background measurements (shutter closed)\n",
    "- Equipment readings\n",
    "- Measure pressure (only if chamber is open to air)\n",
    "- Measure temperature (only if chamber is open to air)\n",
    "- Correct for pressure and temperature if chamber is open\n",
    "- Correct for equipment background\n",
    "\n",
    "5. Calculate dose rate calibration factor\n",
    "- VCV of previously calculated magnitude between equipment reading\n",
    "- The monitoring chamber is used to verify beam stability\n",
    "- Monitoring chamber measurements should be the same when measuring with the reference chamber and when measuring with\n",
    "  the equipment because you have the same voltage and current conditions\n",
    "- VCV * monitoring chamber measurement when measuring with the equipment\n",
    "- Equipment reading * monitoring chamber measurement when measuring with the reference chamber\n",
    "- These products are sieverts/hour * current intensity\n",
    "- The calibration factor is the relationship between both\n",
    "\n",
    "6. Distance factor\n",
    "Simultaneous measurements of the reference chamber and the monitoring chamber at two distances\n",
    "\n",
    "6.1. Leakage current measurements (shutter closed):\n",
    "- Select irradiation time for leakage measurements\n",
    "- Measure the electrometer charge\n",
    "- Calculate leakage current\n",
    "\n",
    "6.2. Current intensity measurement (shutter open):\n",
    "- Select irradiation time for leakage measurements\n",
    "- Measure the electrometer charge\n",
    "- Measure pressure (1 barometer)\n",
    "- Measure temperature (2 probes connected to the same thermometer)\n",
    "- Calculate current intensity (excluding leakages and corrected to reference pressure and temperature conditions)\n",
    "\n",
    "6.3. Calculate distance correction factor\n",
    "\n",
    "Note: All measurements: 5 measurements in 60 seconds\n",
    "## 1. Initial information\n",
    "### 1.1. Reference radiation:"
   ]
  },
  {
   "cell_type": "code",
   "execution_count": 2,
   "id": "66e67ba258f81b4",
   "metadata": {
    "ExecuteTime": {
     "end_time": "2024-04-08T09:41:05.222349Z",
     "start_time": "2024-04-08T09:41:05.216864Z"
    }
   },
   "outputs": [
    {
     "name": "stdout",
     "output_type": "stream",
     "text": [
      "Radiation quality: L-170\n"
     ]
    }
   ],
   "source": [
    "# Define radiation quality\n",
    "radiation_quality = 'L-170'\n",
    "print(f'Radiation quality: {radiation_quality}\\n')"
   ]
  },
  {
   "cell_type": "markdown",
   "id": "4aebeccea6319595",
   "metadata": {},
   "source": [
    "### 1.2. Reference chamber:"
   ]
  },
  {
   "cell_type": "code",
   "execution_count": 3,
   "id": "d2e7f10f78069f41",
   "metadata": {
    "ExecuteTime": {
     "end_time": "2024-04-08T09:41:05.240064Z",
     "start_time": "2024-04-08T09:41:05.224416Z"
    }
   },
   "outputs": [
    {
     "name": "stdout",
     "output_type": "stream",
     "text": [
      "Identification: ns557\n",
      "Data file: ../assets/standard_chambers.json\n"
     ]
    }
   ],
   "source": [
    "# Define reference ionization chamber\n",
    "reference_chamber_id = 'ns557'\n",
    "reference_chamber_data = '../assets/standard_chambers.json'\n",
    "\n",
    "with open(reference_chamber_data, 'r') as file:\n",
    "    json_data = json.load(file)\n",
    "\n",
    "reference = IonizationChamber(identification=reference_chamber_id, calibrated=True, open_chamber=True, json_data=json_data)\n",
    "\n",
    "print(\n",
    "    f'Identification: {reference_chamber_id}\\n'\n",
    "    # f'Electrometer range: {electrometer_range}\\n'\n",
    "    # f'Electrometer range correction: {electrometer_range_correction}\\n'\n",
    "    f'Data file: {reference_chamber_data}\\n'\n",
    ")"
   ]
  },
  {
   "cell_type": "markdown",
   "id": "cc1fa5d203b0444",
   "metadata": {},
   "source": [
    "### 1.3. Environmental conditions:"
   ]
  },
  {
   "cell_type": "code",
   "execution_count": 4,
   "id": "c62629c9ef4e5056",
   "metadata": {
    "ExecuteTime": {
     "end_time": "2024-04-08T09:41:05.248436Z",
     "start_time": "2024-04-08T09:41:05.243308Z"
    }
   },
   "outputs": [
    {
     "name": "stdout",
     "output_type": "stream",
     "text": [
      "Reference temperature: 20 ºC\n",
      "Reference pressure: 101.325 kPa\n"
     ]
    }
   ],
   "source": [
    "print(\n",
    "    f'Reference temperature: {REFERENCE_TEMPERATURE} ºC\\n'\n",
    "    f'Reference pressure: {REFERENCE_PRESSURE} kPa\\n'\n",
    ")"
   ]
  },
  {
   "cell_type": "markdown",
   "id": "9315250a68d30690",
   "metadata": {},
   "source": [
    "### 1.4. Other information"
   ]
  },
  {
   "cell_type": "code",
   "execution_count": 5,
   "id": "720e9f79a6beb455",
   "metadata": {
    "ExecuteTime": {
     "end_time": "2024-04-08T09:41:05.260015Z",
     "start_time": "2024-04-08T09:41:05.250504Z"
    }
   },
   "outputs": [
    {
     "name": "stdout",
     "output_type": "stream",
     "text": [
      "Monitor chamber ID: monitor\n"
     ]
    }
   ],
   "source": [
    "# Define monitor ionization chamber\n",
    "monitor_chamber_id = 'monitor'\n",
    "\n",
    "monitor = IonizationChamber(identification=monitor_chamber_id, calibrated=False, open_chamber=True)\n",
    "\n",
    "print(f'Monitor chamber ID: {monitor_chamber_id}\\n')"
   ]
  },
  {
   "cell_type": "markdown",
   "id": "c657c57cb16b0b98",
   "metadata": {},
   "source": [
    "## 2. Simultaneous measurements of reference chamber and monitor chamber\n",
    "### 2.1. Leakage measurements\n",
    "Measurements of the monitor chamber"
   ]
  },
  {
   "cell_type": "code",
   "execution_count": 6,
   "id": "6bd30edff4929e8",
   "metadata": {
    "ExecuteTime": {
     "end_time": "2024-04-08T09:41:05.851496Z",
     "start_time": "2024-04-08T09:41:05.262084Z"
    }
   },
   "outputs": [
    {
     "ename": "TypeError",
     "evalue": "IonizationChamberMeasurement.__init__() missing 2 required positional arguments: 'magnitude' and 'ionization_chamber_json'",
     "output_type": "error",
     "traceback": [
      "\u001b[1;31m---------------------------------------------------------------------------\u001b[0m",
      "\u001b[1;31mTypeError\u001b[0m                                 Traceback (most recent call last)",
      "Cell \u001b[1;32mIn[6], line 10\u001b[0m\n\u001b[0;32m      7\u001b[0m charge_unit \u001b[38;5;241m=\u001b[39m \u001b[38;5;124m'\u001b[39m\u001b[38;5;124mC\u001b[39m\u001b[38;5;124m'\u001b[39m\n\u001b[0;32m      9\u001b[0m \u001b[38;5;66;03m# Measure leakage current with the monitor chamber\u001b[39;00m\n\u001b[1;32m---> 10\u001b[0m monitor_leakage_measurement \u001b[38;5;241m=\u001b[39m \u001b[43mmonitor\u001b[49m\u001b[38;5;241;43m.\u001b[39;49m\u001b[43mmeasure_leakage_current\u001b[49m\u001b[43m(\u001b[49m\n\u001b[0;32m     11\u001b[0m \u001b[43m    \u001b[49m\u001b[43mtime_readings\u001b[49m\u001b[38;5;241;43m=\u001b[39;49m\u001b[43mmonitor_leakage_time_readings\u001b[49m\u001b[43m,\u001b[49m\u001b[43m \u001b[49m\u001b[43mcharge_readings\u001b[49m\u001b[38;5;241;43m=\u001b[39;49m\u001b[43mmonitor_leakage_charge_readings\u001b[49m\u001b[43m,\u001b[49m\u001b[43m \u001b[49m\u001b[43mtime_unit\u001b[49m\u001b[38;5;241;43m=\u001b[39;49m\u001b[43mtime_unit\u001b[49m\u001b[43m,\u001b[49m\u001b[43m \u001b[49m\u001b[43mcharge_unit\u001b[49m\u001b[38;5;241;43m=\u001b[39;49m\u001b[43mcharge_unit\u001b[49m\u001b[43m)\u001b[49m\n\u001b[0;32m     13\u001b[0m \u001b[38;5;66;03m# Export measurements to dataframes\u001b[39;00m\n\u001b[0;32m     14\u001b[0m df_monitor_leakage_measurement \u001b[38;5;241m=\u001b[39m monitor_leakage_measurement\u001b[38;5;241m.\u001b[39mto_dataframe()\n",
      "File \u001b[1;32m~\\PycharmProjects\\metpyx\\src\\metpyx\\ionization_chamber.py:91\u001b[0m, in \u001b[0;36mIonizationChamber.measure_leakage_current\u001b[1;34m(self, time_readings, charge_readings, time_unit, charge_unit)\u001b[0m\n\u001b[0;32m     89\u001b[0m d\u001b[38;5;241m.\u001b[39mcheck_units_compliance(time\u001b[38;5;241m=\u001b[39mtime_unit, charge\u001b[38;5;241m=\u001b[39mcharge_unit)\n\u001b[0;32m     90\u001b[0m current_readings \u001b[38;5;241m=\u001b[39m d\u001b[38;5;241m.\u001b[39mget_current(time\u001b[38;5;241m=\u001b[39mtime_readings, charge\u001b[38;5;241m=\u001b[39mcharge_readings)\n\u001b[1;32m---> 91\u001b[0m \u001b[38;5;28;01mreturn\u001b[39;00m \u001b[43mIonizationChamberMeasurement\u001b[49m\u001b[43m(\u001b[49m\u001b[43mionization_chamber_id\u001b[49m\u001b[38;5;241;43m=\u001b[39;49m\u001b[38;5;28;43mself\u001b[39;49m\u001b[38;5;241;43m.\u001b[39;49m\u001b[43midentification\u001b[49m\u001b[43m,\u001b[49m\u001b[43m \u001b[49m\u001b[43mtime_readings\u001b[49m\u001b[38;5;241;43m=\u001b[39;49m\u001b[43mtime_readings\u001b[49m\u001b[43m,\u001b[49m\n\u001b[0;32m     92\u001b[0m \u001b[43m                                    \u001b[49m\u001b[43mcharge_readings\u001b[49m\u001b[38;5;241;43m=\u001b[39;49m\u001b[43mcharge_readings\u001b[49m\u001b[43m,\u001b[49m\u001b[43m \u001b[49m\u001b[43mcurrent_readings\u001b[49m\u001b[38;5;241;43m=\u001b[39;49m\u001b[43mcurrent_readings\u001b[49m\u001b[43m)\u001b[49m\n",
      "\u001b[1;31mTypeError\u001b[0m: IonizationChamberMeasurement.__init__() missing 2 required positional arguments: 'magnitude' and 'ionization_chamber_json'"
     ]
    }
   ],
   "source": [
    "# Readings of the monitor chamber\n",
    "monitor_leakage_time_readings = np.array([60, 60, 60, 60])\n",
    "monitor_leakage_charge_readings = np.array([-8.50E-13, -4.30E-13, -2.70E-13, -7.50E-13])\n",
    "\n",
    "# Define readings units\n",
    "time_unit = 's'\n",
    "charge_unit = 'C'\n",
    "\n",
    "# Measure leakage current with the monitor chamber\n",
    "monitor_leakage_measurement = monitor.measure_leakage_current(\n",
    "    time_readings=monitor_leakage_time_readings, charge_readings=monitor_leakage_charge_readings, time_unit=time_unit, charge_unit=charge_unit)\n",
    "\n",
    "# Export measurements to dataframes\n",
    "df_monitor_leakage_measurement = monitor_leakage_measurement.to_dataframe()\n",
    "\n",
    "print(f'{df_monitor_leakage_measurement.to_string(index=True)}\\n')"
   ]
  },
  {
   "cell_type": "markdown",
   "id": "773867e5a1efceb",
   "metadata": {},
   "source": [
    "Measurements of the reference chamber"
   ]
  },
  {
   "cell_type": "code",
   "execution_count": null,
   "id": "8ef71141ee337d69",
   "metadata": {
    "ExecuteTime": {
     "start_time": "2024-04-08T09:41:05.852523Z"
    }
   },
   "outputs": [],
   "source": [
    "# Readings of the reference chamber\n",
    "reference_leakage_time_readings = np.array([60, 60, 60, 60, 60])\n",
    "reference_leakage_charge_readings = np.array([-1.00E-14, -1.10E-13, -1.00E-13, 3.00E-14, 0])\n",
    "\n",
    "# Measure leakage current with the reference chamber\n",
    "reference_leakage_measurement = reference.measure_leakage_current(\n",
    "    time_readings=reference_leakage_time_readings, charge_readings=reference_leakage_charge_readings, time_unit=time_unit, charge_unit=charge_unit)\n",
    "\n",
    "# Export measurements to dataframes\n",
    "df_reference_leakage_measurement = reference_leakage_measurement.to_dataframe()\n",
    "\n",
    "# Print results\n",
    "print(f'{df_reference_leakage_measurement.to_string(index=True)}\\n')"
   ]
  },
  {
   "cell_type": "markdown",
   "id": "959ed3b0f0ba768a",
   "metadata": {},
   "source": [
    ">***Question: If reference and monitor chambers are open, why the environmental correction is not taken in account when measuring leakage current?***\n",
    "\n",
    "### 2.2. Air kerma measurements\n",
    "Measurements of the monitor chamber"
   ]
  },
  {
   "cell_type": "code",
   "execution_count": null,
   "id": "f625f2797eb81a24",
   "metadata": {
    "ExecuteTime": {
     "start_time": "2024-04-08T09:41:05.854552Z"
    }
   },
   "outputs": [],
   "source": [
    "# Readings of the monitor chamber\n",
    "monitor_time_readings = np.array([60, 60, 60, 60, 60])\n",
    "monitor_pressure_readings = np.array([93.642, 93.642, 93.638, 93.638, 93.633])\n",
    "monitor_temperature_readings = np.array([20.63, 20.6, 20.6, 20.6, 20.63])\n",
    "monitor_charge_readings = np.array([4.16E-12, 3.54E-12, 4.18E-12, 4.38E-12, 4.36E-12])\n",
    "\n",
    "# Define readings units\n",
    "time_unit = 's'\n",
    "charge_unit = 'C'\n",
    "pressure_unit = 'kPa'\n",
    "temperature_unit = 'ºC'\n",
    "current_unit = 'A'\n",
    "\n",
    "# Measure current with the monitor chamber\n",
    "monitor_current_measurement = monitor.measure_current(\n",
    "    time_readings=monitor_time_readings, charge_readings=monitor_charge_readings, time_unit=time_unit,\n",
    "    charge_unit=charge_unit, background=monitor_leakage_measurement.current.value,\n",
    "    temperature_readings=monitor_temperature_readings, pressure_readings=monitor_pressure_readings,\n",
    "    current_unit=current_unit, temperature_unit=temperature_unit, pressure_unit=pressure_unit)\n",
    "\n",
    "# Export measurements to dataframes\n",
    "df_monitor_current_measurement = monitor_current_measurement.to_dataframe()\n",
    "\n",
    "# Print results\n",
    "print(f'{df_monitor_current_measurement.to_string(index=True)}\\n')"
   ]
  },
  {
   "cell_type": "markdown",
   "id": "476962f16312c39d",
   "metadata": {},
   "source": [
    "Measurements of the reference chamber"
   ]
  },
  {
   "cell_type": "code",
   "execution_count": null,
   "id": "2b174ba73979d5db",
   "metadata": {
    "ExecuteTime": {
     "start_time": "2024-04-08T09:41:05.855577Z"
    }
   },
   "outputs": [],
   "source": [
    "# Readings of the reference chamber\n",
    "reference_time_readings = np.array([60, 60, 60, 60, 60])\n",
    "reference_pressure_readings = np.array([93.642, 93.642, 93.638, 93.638, 93.633])\n",
    "reference_temperature_readings = np.array([20.88, 20.91, 20.9, 20.94, 20.96])\n",
    "reference_charge_readings = np.array([-1.162E-11, -1.168E-11, -1.169E-11, -1.175E-11, -1.164E-11])\n",
    "\n",
    "# Measure air kerma with the reference chamber\n",
    "reference_current_measurement = reference.measure_current(\n",
    "    time_readings=reference_time_readings, charge_readings=reference_charge_readings, time_unit=time_unit,\n",
    "    charge_unit=charge_unit, background=reference_leakage_measurement.current.value,\n",
    "    temperature_readings=reference_temperature_readings, pressure_readings=reference_pressure_readings,\n",
    "    current_unit=current_unit, temperature_unit=temperature_unit, pressure_unit=pressure_unit)\n",
    "reference_kerma_measurement = reference.measure_air_kerma_rate(\n",
    "    current_measurement=reference_current_measurement, radiation_quality=radiation_quality)\n",
    "\n",
    "# Export measurements to dataframes\n",
    "df_reference_kerma_measurement = reference_kerma_measurement.to_dataframe()\n",
    "\n",
    "# Print results\n",
    "print(\n",
    "    f'Calibration coefficient: {reference.calibration_coefficients[get_radiation_quality_series(radiation_quality)]}\\n'\n",
    "    f'Correction factor: {reference.calibration_coefficients_correction[radiation_quality]}\\n'\n",
    "    f'Distance factor: {0.206378548}\\n'  # TODO: Hardcoded value\n",
    "    f'{df_reference_kerma_measurement.to_string(index=True)}\\n'\n",
    ")"
   ]
  },
  {
   "cell_type": "markdown",
   "id": "339ae80a57afd6e1",
   "metadata": {},
   "source": [
    ">***QUESTION: Why compute 5 intensities and air kerma readings and not compute it from the mean charge? Uncertainties?***\n",
    ">***TO DO: Distance factor value hardcoded. It must be computed.***\n",
    ">***TO DO: Small discrepancy in air kerma uncertainty, compare what excel and python functions do to compute the std.***\n",
    "\n",
    "### 2.3. Conventional true value of operational magnitude"
   ]
  },
  {
   "cell_type": "code",
   "execution_count": null,
   "id": "2bfc641c081886ec",
   "metadata": {
    "ExecuteTime": {
     "start_time": "2024-04-08T09:41:05.856606Z"
    }
   },
   "outputs": [],
   "source": [
    "# Get kerma rate from ionization chamber measurement\n",
    "mean_air_kerma_rate = abs(reference_kerma_measurement.air_kerma_rate.value)\n",
    "\n",
    "# Define path to radiation quality data file\n",
    "conversion_coefficients = '../assets/radiation_quality_data.csv'\n",
    "# Read radiation quality data file\n",
    "csv_data = pd.read_csv(conversion_coefficients, header=1)\n",
    "# Define measurement magnitude\n",
    "measurement_magnitude = 'H*(10)'\n",
    "# Get kerma-to-measurement magnitude conversion factor from CSV\n",
    "conversion_coefficient = csv_data.loc[csv_data['Quality'] == 'L-170', f'h_k[{measurement_magnitude}]'].values[0]\n",
    "\n",
    "# Define electrometer range\n",
    "electrometer_range = 'low'\n",
    "# Get electrometer range correction factor from ionization chamber\n",
    "electrometer_range_correction = json_data[reference_chamber_id][\"electrometer range\"][electrometer_range]\n",
    "\n",
    "# Get air attenuation factor from CSV data\n",
    "air_attenuation_coefficient = csv_data.loc[csv_data['Quality'] == 'L-170', 'mu_air'].values[0]\n",
    "# Define air width\n",
    "air_width = 0.001293\n",
    "# Get pressure from ionization chamber measurement\n",
    "mean_pressure = reference_kerma_measurement.pressure.value\n",
    "# Get temperature from ionization chamber measurement in celsius\n",
    "mean_temperature = reference_kerma_measurement.temperature.value\n",
    "# Get temperature from ionization chamber measurement in kelvin\n",
    "mean_temperature_k = celsius_to_kelvin(reference_kerma_measurement.temperature.value)\n",
    "# Change reference temperature units to kelvin\n",
    "reference_temperature = celsius_to_kelvin(REFERENCE_TEMPERATURE)\n",
    "# Compute air density correction factor\n",
    "# air_density_correction = np.exp(\n",
    "#     air_attenuation_coefficient * air_width * (mean_pressure / REFERENCE_PRESSURE) * (REFERENCE_TEMPERATURE / mean_temperature_k))\n",
    "air_density_correction = np.exp(\n",
    "    air_attenuation_coefficient * air_width * (mean_pressure / 101.25) * (273.15 / mean_temperature_k))\n",
    "# Compute operational magnitude rate\n",
    "ctv_rate = mean_air_kerma_rate * conversion_coefficient * electrometer_range_correction * air_density_correction * hour_to_second(1)\n",
    "\n",
    "# Compute integration time\n",
    "integration_time = sum(reference_kerma_measurement.time_readings)\n",
    "\n",
    "# Compute integral operational magnitude\n",
    "ctv_integral = ctv_rate * integration_time / hour_to_second(1)\n",
    "\n",
    "# Print results\n",
    "print(\n",
    "    f'Mean kerma rate: {mean_air_kerma_rate}\\n\\n'\n",
    "    f'Measurement magnitude: {measurement_magnitude}\\n'\n",
    "    f'Data file: {conversion_coefficients}\\n'\n",
    "    f'Conversion coefficient: {conversion_coefficient}\\n\\n'\n",
    "    f'Electrometer range: {electrometer_range}\\n'\n",
    "    f'Electrometer range correction: {electrometer_range_correction}\\n\\n'\n",
    "    f'Air attenuation coefficient correction: {air_attenuation_coefficient}\\n'\n",
    "    f'Air width: {air_width}\\n'\n",
    "    f'Mean pressure: {mean_pressure}\\n'\n",
    "    f'Mean temperature: {mean_temperature}\\n'\n",
    "    f'Air density correction: {air_density_correction}\\n\\n'\n",
    "    f'CTV of the operational magnitude rate: {ctv_rate}\\n'\n",
    "    f'Integration time: {integration_time}\\n'\n",
    "    f'CTV of the integral operational magnitude: {ctv_integral}\\n'\n",
    ")"
   ]
  },
  {
   "cell_type": "markdown",
   "id": "c6c2588144e7a17",
   "metadata": {},
   "source": [
    ">***QUESTION: What happens with the kerma sign (positive or negative)? If current is negative kerma is negative? Or is it always positive?***\n",
    "\n",
    ">***QUESTION: When calculating ambient correction in reference chamber intensity readings, reference temperature is 293.15 K (20ºC) and reference pressure is 101.325 kPa (1 atm). However, when calculating air density correction, reference temperature is 273.15 K and reference pressure is 101.25 kPa. The air density correction is 1.00017 in the first case and 1.00016 in the second case. I am going to use the first reference values, but this differs from the spreed sheet. Also, I though that the reference laboratory conditions were 25ºC and 1 atm, we are using 20ºC.***"
   ]
  },
  {
   "cell_type": "code",
   "execution_count": null,
   "id": "bbf09dfd53008fc3",
   "metadata": {
    "ExecuteTime": {
     "start_time": "2024-04-08T09:41:05.857606Z"
    }
   },
   "outputs": [],
   "source": [
    "ctv = reference.measure_operational_magnitude(\n",
    "    kerma_measurement=reference_kerma_measurement, \n",
    "    radiation_quality_csv='../assets/radiation_quality_data.csv', \n",
    "    measurement_magnitude='H*(10)', \n",
    "    radiation_quality='L-170', \n",
    "    electrometer_range='low'\n",
    ")\n",
    "print(ctv)"
   ]
  },
  {
   "cell_type": "code",
   "execution_count": null,
   "id": "ace91ca4898befee",
   "metadata": {},
   "outputs": [],
   "source": []
  }
 ],
 "metadata": {
  "kernelspec": {
   "display_name": "Python 3 (ipykernel)",
   "language": "python",
   "name": "python3"
  },
  "language_info": {
   "codemirror_mode": {
    "name": "ipython",
    "version": 3
   },
   "file_extension": ".py",
   "mimetype": "text/x-python",
   "name": "python",
   "nbconvert_exporter": "python",
   "pygments_lexer": "ipython3",
   "version": "3.11.5"
  }
 },
 "nbformat": 4,
 "nbformat_minor": 5
}

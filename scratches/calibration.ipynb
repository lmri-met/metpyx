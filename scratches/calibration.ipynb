{
 "cells": [
  {
   "cell_type": "code",
   "outputs": [],
   "source": [
    "import json\n",
    "import numpy as np\n",
    "import pandas as pd\n",
    "from src.metpyx.definitions import REFERENCE_TEMPERATURE, REFERENCE_PRESSURE, celsius_to_kelvin, hour_to_second\n",
    "from src.metpyx.ionization_chamber import IonizationChamber, get_radiation_quality_series"
   ],
   "metadata": {
    "collapsed": false,
    "ExecuteTime": {
     "end_time": "2024-04-05T10:47:20.882606Z",
     "start_time": "2024-04-05T10:47:20.348704Z"
    }
   },
   "id": "9699251129a4aaa1",
   "execution_count": 1
  },
  {
   "cell_type": "markdown",
   "source": [
    "# IR-14D: Calibration of radiation measuring devices\n",
    "## 1. Initial information\n",
    "### 1.1. Reference radiation:"
   ],
   "metadata": {
    "collapsed": false
   },
   "id": "c54660ea138ed69"
  },
  {
   "cell_type": "code",
   "outputs": [
    {
     "name": "stdout",
     "output_type": "stream",
     "text": [
      "Radiation quality: L-170\n"
     ]
    }
   ],
   "source": [
    "# Define radiation quality\n",
    "radiation_quality = 'L-170'\n",
    "print(f'Radiation quality: {radiation_quality}\\n')"
   ],
   "metadata": {
    "collapsed": false,
    "ExecuteTime": {
     "end_time": "2024-04-05T10:47:20.886635Z",
     "start_time": "2024-04-05T10:47:20.883615Z"
    }
   },
   "id": "66e67ba258f81b4",
   "execution_count": 2
  },
  {
   "cell_type": "markdown",
   "source": [
    "### 1.2. Reference chamber:"
   ],
   "metadata": {
    "collapsed": false
   },
   "id": "4aebeccea6319595"
  },
  {
   "cell_type": "code",
   "outputs": [
    {
     "name": "stdout",
     "output_type": "stream",
     "text": [
      "Identification: ns557\n",
      "Data file: ../assets/standard_chambers.json\n"
     ]
    }
   ],
   "source": [
    "# Define reference ionization chamber\n",
    "reference_chamber_id = 'ns557'\n",
    "reference_chamber_data = '../assets/standard_chambers.json'\n",
    "\n",
    "with open(reference_chamber_data, 'r') as file:\n",
    "    json_data = json.load(file)\n",
    "\n",
    "reference = IonizationChamber(identification=reference_chamber_id, calibrated=True, open_chamber=True, json_data=json_data)\n",
    "\n",
    "print(\n",
    "    f'Identification: {reference_chamber_id}\\n'\n",
    "    # f'Electrometer range: {electrometer_range}\\n'\n",
    "    # f'Electrometer range correction: {electrometer_range_correction}\\n'\n",
    "    f'Data file: {reference_chamber_data}\\n'\n",
    ")"
   ],
   "metadata": {
    "collapsed": false,
    "ExecuteTime": {
     "end_time": "2024-04-05T10:47:20.897681Z",
     "start_time": "2024-04-05T10:47:20.887628Z"
    }
   },
   "id": "d2e7f10f78069f41",
   "execution_count": 3
  },
  {
   "cell_type": "markdown",
   "source": [
    "### 1.3. Environmental conditions:"
   ],
   "metadata": {
    "collapsed": false
   },
   "id": "cc1fa5d203b0444"
  },
  {
   "cell_type": "code",
   "outputs": [
    {
     "name": "stdout",
     "output_type": "stream",
     "text": [
      "Reference temperature: 20 ºC\n",
      "Reference pressure: 101.325 kPa\n"
     ]
    }
   ],
   "source": [
    "print(\n",
    "    f'Reference temperature: {REFERENCE_TEMPERATURE} ºC\\n'\n",
    "    f'Reference pressure: {REFERENCE_PRESSURE} kPa\\n'\n",
    ")"
   ],
   "metadata": {
    "collapsed": false,
    "ExecuteTime": {
     "end_time": "2024-04-05T10:47:20.901769Z",
     "start_time": "2024-04-05T10:47:20.898684Z"
    }
   },
   "id": "c62629c9ef4e5056",
   "execution_count": 4
  },
  {
   "cell_type": "markdown",
   "source": [
    "### 1.4. Other information"
   ],
   "metadata": {
    "collapsed": false
   },
   "id": "9315250a68d30690"
  },
  {
   "cell_type": "code",
   "outputs": [
    {
     "name": "stdout",
     "output_type": "stream",
     "text": [
      "Monitor chamber ID: monitor\n"
     ]
    }
   ],
   "source": [
    "# Define monitor ionization chamber\n",
    "monitor_chamber_id = 'monitor'\n",
    "\n",
    "monitor = IonizationChamber(identification=monitor_chamber_id, calibrated=False, open_chamber=True)\n",
    "\n",
    "print(f'Monitor chamber ID: {monitor_chamber_id}\\n')"
   ],
   "metadata": {
    "collapsed": false,
    "ExecuteTime": {
     "end_time": "2024-04-05T10:47:20.907614Z",
     "start_time": "2024-04-05T10:47:20.903771Z"
    }
   },
   "id": "720e9f79a6beb455",
   "execution_count": 5
  },
  {
   "cell_type": "markdown",
   "source": [
    "## 2. Simultaneous measurements of reference chamber and monitor chamber\n",
    "### 2.1. Leakage measurements\n",
    "Measurements of the monitor chamber"
   ],
   "metadata": {
    "collapsed": false
   },
   "id": "c657c57cb16b0b98"
  },
  {
   "cell_type": "code",
   "outputs": [
    {
     "name": "stdout",
     "output_type": "stream",
     "text": [
      "               Time (s)    Charge (C)   Current (A)\n",
      "#                                                  \n",
      "Reading 1          60.0 -8.500000e-13 -1.416667e-14\n",
      "Reading 2          60.0 -4.300000e-13 -7.166667e-15\n",
      "Reading 3          60.0 -2.700000e-13 -4.500000e-15\n",
      "Reading 4          60.0 -7.500000e-13 -1.250000e-14\n",
      "Mean               60.0 -5.750000e-13 -9.583333e-15\n",
      "Uncertainty         0.0  1.173403e-13  1.955672e-15\n",
      "% Uncertainty       0.0  2.040701e+01  2.040701e+01\n"
     ]
    }
   ],
   "source": [
    "# Readings of the monitor chamber\n",
    "monitor_leakage_time_readings = np.array([60, 60, 60, 60])\n",
    "monitor_leakage_charge_readings = np.array([-8.50E-13, -4.30E-13, -2.70E-13, -7.50E-13])\n",
    "\n",
    "# Define readings units\n",
    "time_unit = 's'\n",
    "charge_unit = 'C'\n",
    "\n",
    "# Measure leakage current with the monitor chamber\n",
    "monitor_leakage_measurement = monitor.measure_leakage_current(\n",
    "    time_readings=monitor_leakage_time_readings, charge_readings=monitor_leakage_charge_readings, time_unit=time_unit, charge_unit=charge_unit)\n",
    "\n",
    "# Export measurements to dataframes\n",
    "df_monitor_leakage_measurement = monitor_leakage_measurement.to_dataframe()\n",
    "\n",
    "print(f'{df_monitor_leakage_measurement.to_string(index=True)}\\n')"
   ],
   "metadata": {
    "collapsed": false,
    "ExecuteTime": {
     "end_time": "2024-04-05T10:47:20.917391Z",
     "start_time": "2024-04-05T10:47:20.907614Z"
    }
   },
   "id": "6bd30edff4929e8",
   "execution_count": 6
  },
  {
   "cell_type": "markdown",
   "source": [
    "Measurements of the reference chamber"
   ],
   "metadata": {
    "collapsed": false
   },
   "id": "773867e5a1efceb"
  },
  {
   "cell_type": "code",
   "outputs": [
    {
     "name": "stdout",
     "output_type": "stream",
     "text": [
      "               Time (s)    Charge (C)   Current (A)\n",
      "#                                                  \n",
      "Reading 1          60.0 -1.000000e-14 -1.666667e-16\n",
      "Reading 2          60.0 -1.100000e-13 -1.833333e-15\n",
      "Reading 3          60.0 -1.000000e-13 -1.666667e-15\n",
      "Reading 4          60.0  3.000000e-14  5.000000e-16\n",
      "Reading 5          60.0  0.000000e+00  0.000000e+00\n",
      "Mean               60.0 -3.800000e-14 -6.333333e-16\n",
      "Uncertainty         0.0  2.520317e-14  4.200529e-16\n",
      "% Uncertainty       0.0  6.632414e+01  6.632414e+01\n"
     ]
    }
   ],
   "source": [
    "# Readings of the reference chamber\n",
    "reference_leakage_time_readings = np.array([60, 60, 60, 60, 60])\n",
    "reference_leakage_charge_readings = np.array([-1.00E-14, -1.10E-13, -1.00E-13, 3.00E-14, 0])\n",
    "\n",
    "# Measure leakage current with the reference chamber\n",
    "reference_leakage_measurement = reference.measure_leakage_current(\n",
    "    time_readings=reference_leakage_time_readings, charge_readings=reference_leakage_charge_readings, time_unit=time_unit, charge_unit=charge_unit)\n",
    "\n",
    "# Export measurements to dataframes\n",
    "df_reference_leakage_measurement = reference_leakage_measurement.to_dataframe()\n",
    "\n",
    "# Print results\n",
    "print(f'{df_reference_leakage_measurement.to_string(index=True)}\\n')"
   ],
   "metadata": {
    "collapsed": false,
    "ExecuteTime": {
     "end_time": "2024-04-05T10:47:20.925249Z",
     "start_time": "2024-04-05T10:47:20.918394Z"
    }
   },
   "id": "8ef71141ee337d69",
   "execution_count": 7
  },
  {
   "cell_type": "markdown",
   "source": [
    ">***Question: If reference and monitor chambers are open, why the environmental correction is not taken in account when measuring leakage current?***\n",
    "\n",
    "### 2.2. Air kerma measurements\n",
    "Measurements of the monitor chamber"
   ],
   "metadata": {
    "collapsed": false
   },
   "id": "959ed3b0f0ba768a"
  },
  {
   "cell_type": "code",
   "outputs": [
    {
     "name": "stdout",
     "output_type": "stream",
     "text": [
      "               Time (s)    Charge (C)  Temperature (ºC)  Pressure (kPa)   Current (A)\n",
      "#                                                                                    \n",
      "Reading 1          60.0  4.160000e-12         20.630000       93.642000  8.557502e-14\n",
      "Reading 2          60.0  3.540000e-12         20.600000       93.642000  7.436225e-14\n",
      "Reading 3          60.0  4.180000e-12         20.600000       93.638000  8.593137e-14\n",
      "Reading 4          60.0  4.380000e-12         20.600000       93.638000  8.954573e-14\n",
      "Reading 5          60.0  4.360000e-12         20.630000       93.633000  8.919816e-14\n",
      "Mean               60.0  4.124000e-12         20.612000       93.638600  8.492250e-14\n",
      "Uncertainty         0.0  1.366338e-13          0.006573        0.001486  2.470774e-15\n",
      "% Uncertainty       0.0  3.313138e+00          0.031888        0.001587  2.909445e+00\n"
     ]
    }
   ],
   "source": [
    "# Readings of the monitor chamber\n",
    "monitor_time_readings = np.array([60, 60, 60, 60, 60])\n",
    "monitor_pressure_readings = np.array([93.642, 93.642, 93.638, 93.638, 93.633])\n",
    "monitor_temperature_readings = np.array([20.63, 20.6, 20.6, 20.6, 20.63])\n",
    "monitor_charge_readings = np.array([4.16E-12, 3.54E-12, 4.18E-12, 4.38E-12, 4.36E-12])\n",
    "\n",
    "# Define readings units\n",
    "time_unit = 's'\n",
    "charge_unit = 'C'\n",
    "pressure_unit = 'kPa'\n",
    "temperature_unit = 'ºC'\n",
    "current_unit = 'A'\n",
    "\n",
    "# Measure current with the monitor chamber\n",
    "monitor_current_measurement = monitor.measure_current(\n",
    "    time_readings=monitor_time_readings, charge_readings=monitor_charge_readings, time_unit=time_unit,\n",
    "    charge_unit=charge_unit, background=monitor_leakage_measurement.current.value,\n",
    "    temperature_readings=monitor_temperature_readings, pressure_readings=monitor_pressure_readings,\n",
    "    current_unit=current_unit, temperature_unit=temperature_unit, pressure_unit=pressure_unit)\n",
    "\n",
    "# Export measurements to dataframes\n",
    "df_monitor_current_measurement = monitor_current_measurement.to_dataframe()\n",
    "\n",
    "# Print results\n",
    "print(f'{df_monitor_current_measurement.to_string(index=True)}\\n')"
   ],
   "metadata": {
    "collapsed": false,
    "ExecuteTime": {
     "end_time": "2024-04-05T10:47:20.933929Z",
     "start_time": "2024-04-05T10:47:20.925249Z"
    }
   },
   "id": "f625f2797eb81a24",
   "execution_count": 8
  },
  {
   "cell_type": "markdown",
   "source": [
    "Measurements of the reference chamber"
   ],
   "metadata": {
    "collapsed": false
   },
   "id": "476962f16312c39d"
  },
  {
   "cell_type": "code",
   "outputs": [
    {
     "name": "stdout",
     "output_type": "stream",
     "text": [
      "Calibration coefficient: 43700\n",
      "Correction factor: 0.987\n",
      "Distance factor: 0.206378548\n",
      "               Time (s)    Charge (C)  Temperature (ºC)  Pressure (kPa)   Current (A)  Air kerma (Gy/s)\n",
      "#                                                                                                      \n",
      "Reading 1          60.0 -1.162000e-11         20.880000       93.642000 -2.094981e-13     -1.864847e-09\n",
      "Reading 2          60.0 -1.168000e-11         20.910000       93.642000 -2.106048e-13     -1.874699e-09\n",
      "Reading 3          60.0 -1.169000e-11         20.900000       93.638000 -2.107876e-13     -1.876325e-09\n",
      "Reading 4          60.0 -1.175000e-11         20.940000       93.638000 -2.119018e-13     -1.886244e-09\n",
      "Reading 5          60.0 -1.164000e-11         20.960000       93.633000 -2.099371e-13     -1.868755e-09\n",
      "Mean               60.0 -1.167600e-11         20.918000       93.638600 -2.105459e-13     -1.874174e-09\n",
      "Uncertainty         0.0  2.011964e-14          0.012775        0.001486  3.670961e-16      3.267705e-12\n",
      "% Uncertainty       0.0  1.723162e-01          0.061072        0.001587  1.743544e-01      1.743544e-01\n"
     ]
    }
   ],
   "source": [
    "# Readings of the reference chamber\n",
    "reference_time_readings = np.array([60, 60, 60, 60, 60])\n",
    "reference_pressure_readings = np.array([93.642, 93.642, 93.638, 93.638, 93.633])\n",
    "reference_temperature_readings = np.array([20.88, 20.91, 20.9, 20.94, 20.96])\n",
    "reference_charge_readings = np.array([-1.162E-11, -1.168E-11, -1.169E-11, -1.175E-11, -1.164E-11])\n",
    "\n",
    "# Measure air kerma with the reference chamber\n",
    "reference_current_measurement = reference.measure_current(\n",
    "    time_readings=reference_time_readings, charge_readings=reference_charge_readings, time_unit=time_unit,\n",
    "    charge_unit=charge_unit, background=reference_leakage_measurement.current.value,\n",
    "    temperature_readings=reference_temperature_readings, pressure_readings=reference_pressure_readings,\n",
    "    current_unit=current_unit, temperature_unit=temperature_unit, pressure_unit=pressure_unit)\n",
    "reference_kerma_measurement = reference.measure_air_kerma_rate(\n",
    "    current_measurement=reference_current_measurement, radiation_quality=radiation_quality)\n",
    "\n",
    "# Export measurements to dataframes\n",
    "df_reference_kerma_measurement = reference_kerma_measurement.to_dataframe()\n",
    "\n",
    "# Print results\n",
    "print(\n",
    "    f'Calibration coefficient: {reference.calibration_coefficients[get_radiation_quality_series(radiation_quality)]}\\n'\n",
    "    f'Correction factor: {reference.calibration_coefficients_correction[radiation_quality]}\\n'\n",
    "    f'Distance factor: {0.206378548}\\n'  # TODO: Hardcoded value\n",
    "    f'{df_reference_kerma_measurement.to_string(index=True)}\\n'\n",
    ")"
   ],
   "metadata": {
    "collapsed": false,
    "ExecuteTime": {
     "end_time": "2024-04-05T10:47:20.944990Z",
     "start_time": "2024-04-05T10:47:20.934932Z"
    }
   },
   "id": "2b174ba73979d5db",
   "execution_count": 9
  },
  {
   "cell_type": "markdown",
   "source": [
    ">***QUESTION: Why compute 5 intensities and air kerma readings and not compute it from the mean charge? Uncertainties?***\n",
    ">***TO DO: Distance factor value hardcoded. It must be computed.***\n",
    ">***TO DO: Small discrepancy in air kerma uncertainty, compare what excel and python functions do to compute the std.***\n",
    "\n",
    "### 2.3. Conventional true value of operational magnitude"
   ],
   "metadata": {
    "collapsed": false
   },
   "id": "339ae80a57afd6e1"
  },
  {
   "cell_type": "code",
   "outputs": [
    {
     "name": "stdout",
     "output_type": "stream",
     "text": [
      "Mean kerma rate: 1.874173825745176e-09\n",
      "\n",
      "Measurement magnitude: H*(10)\n",
      "Data file: ../assets/radiation_quality_data.csv\n",
      "Conversion coefficient: 1.49\n",
      "\n",
      "Electrometer range: low\n",
      "Electrometer range correction: 1.001\n",
      "\n",
      "Air attenuation coefficient correction: 0.145\n",
      "Air width: 0.001293\n",
      "Mean pressure: 93.63860000000001\n",
      "Mean temperature: 20.918\n",
      "Air density correction: 1.0001610700589696\n",
      "\n",
      "CTV of the operational magnitude rate: 1.0064742337266963e-05\n",
      "Integration time: 300\n",
      "CTV of the integral operational magnitude: 8.387285281055802e-07\n"
     ]
    }
   ],
   "source": [
    "# Get kerma rate from ionization chamber measurement\n",
    "mean_air_kerma_rate = abs(reference_kerma_measurement.air_kerma_rate.value)\n",
    "\n",
    "# Define path to radiation quality data file\n",
    "conversion_coefficients = '../assets/radiation_quality_data.csv'\n",
    "# Read radiation quality data file\n",
    "csv_data = pd.read_csv(conversion_coefficients, header=1)\n",
    "# Define measurement magnitude\n",
    "measurement_magnitude = 'H*(10)'\n",
    "# Get kerma-to-measurement magnitude conversion factor from CSV\n",
    "conversion_coefficient = csv_data.loc[csv_data['Quality'] == 'L-170', f'h_k[{measurement_magnitude}]'].values[0]\n",
    "\n",
    "# Define electrometer range\n",
    "electrometer_range = 'low'\n",
    "# Get electrometer range correction factor from ionization chamber\n",
    "electrometer_range_correction = json_data[reference_chamber_id][\"electrometer range\"][electrometer_range]\n",
    "\n",
    "# Get air attenuation factor from CSV data\n",
    "air_attenuation_coefficient = csv_data.loc[csv_data['Quality'] == 'L-170', 'mu_air'].values[0]\n",
    "# Define air width\n",
    "air_width = 0.001293\n",
    "# Get pressure from ionization chamber measurement\n",
    "mean_pressure = reference_kerma_measurement.pressure.value\n",
    "# Get temperature from ionization chamber measurement in celsius\n",
    "mean_temperature = reference_kerma_measurement.temperature.value\n",
    "# Get temperature from ionization chamber measurement in kelvin\n",
    "mean_temperature_k = celsius_to_kelvin(reference_kerma_measurement.temperature.value)\n",
    "# Change reference temperature units to kelvin\n",
    "reference_temperature = celsius_to_kelvin(REFERENCE_TEMPERATURE)\n",
    "# Compute air density correction factor\n",
    "# air_density_correction = np.exp(\n",
    "#     air_attenuation_coefficient * air_width * (mean_pressure / REFERENCE_PRESSURE) * (REFERENCE_TEMPERATURE / mean_temperature_k))\n",
    "air_density_correction = np.exp(\n",
    "    air_attenuation_coefficient * air_width * (mean_pressure / 101.25) * (273.15 / mean_temperature_k))\n",
    "# Compute operational magnitude rate\n",
    "ctv_rate = mean_air_kerma_rate * conversion_coefficient * electrometer_range_correction * air_density_correction * hour_to_second(1)\n",
    "\n",
    "# Compute integration time\n",
    "integration_time = sum(reference_kerma_measurement.time_readings)\n",
    "\n",
    "# Compute integral operational magnitude\n",
    "ctv_integral = ctv_rate * integration_time / hour_to_second(1)\n",
    "\n",
    "# Print results\n",
    "print(\n",
    "    f'Mean kerma rate: {mean_air_kerma_rate}\\n\\n'\n",
    "    f'Measurement magnitude: {measurement_magnitude}\\n'\n",
    "    f'Data file: {conversion_coefficients}\\n'\n",
    "    f'Conversion coefficient: {conversion_coefficient}\\n\\n'\n",
    "    f'Electrometer range: {electrometer_range}\\n'\n",
    "    f'Electrometer range correction: {electrometer_range_correction}\\n\\n'\n",
    "    f'Air attenuation coefficient correction: {air_attenuation_coefficient}\\n'\n",
    "    f'Air width: {air_width}\\n'\n",
    "    f'Mean pressure: {mean_pressure}\\n'\n",
    "    f'Mean temperature: {mean_temperature}\\n'\n",
    "    f'Air density correction: {air_density_correction}\\n\\n'\n",
    "    f'CTV of the operational magnitude rate: {ctv_rate}\\n'\n",
    "    f'Integration time: {integration_time}\\n'\n",
    "    f'CTV of the integral operational magnitude: {ctv_integral}\\n'\n",
    ")"
   ],
   "metadata": {
    "collapsed": false,
    "ExecuteTime": {
     "end_time": "2024-04-05T10:47:20.956890Z",
     "start_time": "2024-04-05T10:47:20.945992Z"
    }
   },
   "id": "2bfc641c081886ec",
   "execution_count": 10
  },
  {
   "cell_type": "markdown",
   "source": [
    ">***QUESTION: What happens with the kerma sign (positive or negative)? If current is negative kerma is negative? Or is it always positive?***"
   ],
   "metadata": {
    "collapsed": false
   },
   "id": "c6c2588144e7a17"
  },
  {
   "cell_type": "code",
   "outputs": [
    {
     "name": "stdout",
     "output_type": "stream",
     "text": [
      "Mean kerma rate: 1.874173825745176e-09\n",
      "\n",
      "Measurement magnitude: H*(10)\n",
      "Data file: ../assets/radiation_quality_data.csv\n",
      "Conversion coefficient: 1.49\n",
      "\n",
      "Electrometer range: low\n",
      "Electrometer range correction: 1.001\n",
      "\n",
      "Air attenuation coefficient correction: 0.145\n",
      "Air width: 0.001293\n",
      "Mean pressure: 93.63860000000001\n",
      "Mean temperature: 20.918\n",
      "Air density correction: 1.0002035308701807\n",
      "\n",
      "CTV of the operational magnitude rate: 7.766334587629538e-13\n",
      "Integration time: 300\n",
      "CTV of the integral operational magnitude: 6.471945489691281e-14\n"
     ]
    }
   ],
   "source": [
    "ctv = reference.measure_operational_magnitude(\n",
    "    kerma_measurement=reference_kerma_measurement, \n",
    "    radiation_quality_csv='../assets/radiation_quality_data.csv', \n",
    "    measurement_magnitude='H*(10)', \n",
    "    radiation_quality='L-170', \n",
    "    electrometer_range='low'\n",
    ")\n",
    "print(ctv)"
   ],
   "metadata": {
    "collapsed": false,
    "ExecuteTime": {
     "end_time": "2024-04-05T10:47:59.627170Z",
     "start_time": "2024-04-05T10:47:59.621106Z"
    }
   },
   "id": "bbf09dfd53008fc3",
   "execution_count": 12
  },
  {
   "cell_type": "code",
   "outputs": [],
   "source": [],
   "metadata": {
    "collapsed": false,
    "ExecuteTime": {
     "end_time": "2024-04-05T10:47:20.970910Z",
     "start_time": "2024-04-05T10:47:20.968114Z"
    }
   },
   "id": "ace91ca4898befee",
   "execution_count": 11
  }
 ],
 "metadata": {
  "kernelspec": {
   "display_name": "Python 3",
   "language": "python",
   "name": "python3"
  },
  "language_info": {
   "codemirror_mode": {
    "name": "ipython",
    "version": 2
   },
   "file_extension": ".py",
   "mimetype": "text/x-python",
   "name": "python",
   "nbconvert_exporter": "python",
   "pygments_lexer": "ipython2",
   "version": "2.7.6"
  }
 },
 "nbformat": 4,
 "nbformat_minor": 5
}
